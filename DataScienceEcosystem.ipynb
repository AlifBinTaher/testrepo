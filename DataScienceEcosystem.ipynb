{
 "cells": [
  {
   "cell_type": "markdown",
   "id": "1f23193b",
   "metadata": {},
   "source": [
    "# Data Science Tools and Ecosystem"
   ]
  },
  {
   "cell_type": "markdown",
   "id": "0edf06e1",
   "metadata": {},
   "source": [
    "In this notebook, Data Science Tools and Ecosystem are summarized."
   ]
  },
  {
   "cell_type": "markdown",
   "id": "ca43dc65",
   "metadata": {},
   "source": [
    "**Objectives:** \n",
    "* List popular languages for Data Science. \n",
    "* List some commonly used libraries used by Data Scientists. \n",
    "* List three data science tools.\n",
    "* Evaluating arithmetic expression in Jupyter Notebook."
   ]
  },
  {
   "cell_type": "markdown",
   "id": "b3c44750",
   "metadata": {},
   "source": [
    "Some of the popular languages that Data Scientists use are:\n",
    "\n",
    "1.  Python\n",
    "2.  R\n",
    "3.  SQL\n",
    "4.  Java\n",
    "5.  Julia\n",
    "6.  Scala\n",
    "7.  C/C++\n",
    "8.  JavaScript\n",
    "9.  Swift\n",
    "10. Go\n",
    "11. MATLAB\n",
    "12. SAS"
   ]
  },
  {
   "cell_type": "markdown",
   "id": "2a96d30f",
   "metadata": {},
   "source": [
    "Some of the commonly used libraries used by Data Scientists include:\n",
    "1.  TensorFlow.\n",
    "2.  NumPy.\n",
    "3.  SciPy.\n",
    "4.  Pandas.\n",
    "5.  Matplotlib.\n",
    "6.  Keras.\n",
    "7.  SciKit-Learn.\n",
    "8.  PyTorch."
   ]
  },
  {
   "cell_type": "markdown",
   "id": "79ea5af2",
   "metadata": {},
   "source": [
    "|Data Science Tools|\n",
    "-----------------------\n",
    "|Hadoop                 |\n",
    "|Rstudio                |\n",
    "|Apache Spark           |"
   ]
  },
  {
   "cell_type": "markdown",
   "id": "0b204559",
   "metadata": {},
   "source": [
    "### Below are a few examples of evaluating arithmetic expressions in Python"
   ]
  },
  {
   "cell_type": "code",
   "execution_count": 10,
   "id": "ba71948c",
   "metadata": {},
   "outputs": [
    {
     "data": {
      "text/plain": [
       "17"
      ]
     },
     "execution_count": 10,
     "metadata": {},
     "output_type": "execute_result"
    }
   ],
   "source": [
    "#This a simple arithmetic expression to mutiply then add integers.\n",
    "(3*4)+5"
   ]
  },
  {
   "cell_type": "code",
   "execution_count": 11,
   "id": "d6aef836",
   "metadata": {},
   "outputs": [
    {
     "data": {
      "text/plain": [
       "3.3333333333333335"
      ]
     },
     "execution_count": 11,
     "metadata": {},
     "output_type": "execute_result"
    }
   ],
   "source": [
    "#This will convert 200 minutes to hours by diving by 60.\n",
    "200/60"
   ]
  },
  {
   "cell_type": "markdown",
   "id": "89e1895a",
   "metadata": {},
   "source": [
    "## Author\n",
    "<br>\n",
    "Alif Bin Taher"
   ]
  }
 ],
 "metadata": {
  "kernelspec": {
   "display_name": "Python 3 (ipykernel)",
   "language": "python",
   "name": "python3"
  },
  "language_info": {
   "codemirror_mode": {
    "name": "ipython",
    "version": 3
   },
   "file_extension": ".py",
   "mimetype": "text/x-python",
   "name": "python",
   "nbconvert_exporter": "python",
   "pygments_lexer": "ipython3",
   "version": "3.10.9"
  }
 },
 "nbformat": 4,
 "nbformat_minor": 5
}
